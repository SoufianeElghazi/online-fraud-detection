{
 "cells": [
  {
   "cell_type": "markdown",
   "id": "b12daa39-c5c3-411e-9fe1-6e6d36562cf4",
   "metadata": {},
   "source": [
    "# Online Fraud Detection using ANN (Artificial Neural Networks)"
   ]
  },
  {
   "cell_type": "markdown",
   "id": "75e44855-2e05-4101-9d20-bce04619e829",
   "metadata": {},
   "source": [
    "### About the Dataset\n",
    "This dataset is taken from Kaggle via this link <a href=\"https://www.kaggle.com/datasets/jainilcoder/online-payment-fraud-detection\">https://www.kaggle.com/datasets/jainilcoder/online-payment-fraud-detection</a>\n",
    "    \n",
    "```\n",
    "To identify online payment fraud with machine learning, we need to train a machine learning model for classifying fraudulent and non-fraudulent payments. For this, we need a dataset containing information about online payment fraud, so that we can understand what type of transactions lead to fraud. For this task, I collected a dataset from Kaggle, which contains historical information about fraudulent transactions which can be used to detect fraud in online payments. Below are all the columns from the dataset I’m using here:\n",
    "\n",
    "step: represents a unit of time where 1 step equals 1 hour\n",
    "type: type of online transaction\n",
    "amount: the amount of the transaction\n",
    "nameOrig: customer starting the transaction\n",
    "oldbalanceOrg: balance before the transaction\n",
    "newbalanceOrig: balance after the transaction\n",
    "nameDest: recipient of the transaction\n",
    "oldbalanceDest: initial balance of recipient before the transaction\n",
    "newbalanceDest: the new balance of recipient after the transaction\n",
    "isFraud: fraud transaction\n",
    "```"
   ]
  },
  {
   "cell_type": "code",
   "execution_count": null,
   "id": "078bfcbd-cf76-4d0d-bfed-744174e26d70",
   "metadata": {},
   "outputs": [],
   "source": [
    "import pandas as pd\n",
    "import numpy as np\n",
    "import tensorflow as tf\n",
    "from tensorflow.keras.models import Sequential\n",
    "from tensorflow.keras.layers import Dense\n",
    "from sklearn.preprocessing import LabelEncoder, StandardScaler\n",
    "from sklearn.model_selection import train_test_split, StratifiedKFold\n",
    "from sklearn.metrics import accuracy_score, f1_score\n",
    "from imblearn.over_sampling import SMOTE\n",
    "from imblearn.pipeline import Pipeline\n",
    "import joblib"
   ]
  },
  {
   "cell_type": "code",
   "execution_count": null,
   "id": "c18d125f-80b1-440c-88a1-8d2ec3657b76",
   "metadata": {},
   "outputs": [],
   "source": [
    "# Load the dataset\n",
    "file_path = 'onlinefraud.csv'\n",
    "data = pd.read_csv(file_path)"
   ]
  },
  {
   "cell_type": "code",
   "execution_count": 25,
   "id": "68b8f7c4-7623-4dd9-858f-834d5d839cb7",
   "metadata": {},
   "outputs": [
    {
     "data": {
      "text/html": [
       "<div>\n",
       "<style scoped>\n",
       "    .dataframe tbody tr th:only-of-type {\n",
       "        vertical-align: middle;\n",
       "    }\n",
       "\n",
       "    .dataframe tbody tr th {\n",
       "        vertical-align: top;\n",
       "    }\n",
       "\n",
       "    .dataframe thead th {\n",
       "        text-align: right;\n",
       "    }\n",
       "</style>\n",
       "<table border=\"1\" class=\"dataframe\">\n",
       "  <thead>\n",
       "    <tr style=\"text-align: right;\">\n",
       "      <th></th>\n",
       "      <th>step</th>\n",
       "      <th>type</th>\n",
       "      <th>amount</th>\n",
       "      <th>nameOrig</th>\n",
       "      <th>oldbalanceOrg</th>\n",
       "      <th>newbalanceOrig</th>\n",
       "      <th>nameDest</th>\n",
       "      <th>oldbalanceDest</th>\n",
       "      <th>newbalanceDest</th>\n",
       "      <th>isFraud</th>\n",
       "    </tr>\n",
       "  </thead>\n",
       "  <tbody>\n",
       "    <tr>\n",
       "      <th>0</th>\n",
       "      <td>1</td>\n",
       "      <td>3</td>\n",
       "      <td>-0.281560</td>\n",
       "      <td>757869</td>\n",
       "      <td>-0.229810</td>\n",
       "      <td>-0.237622</td>\n",
       "      <td>1662094</td>\n",
       "      <td>-0.323814</td>\n",
       "      <td>-0.333411</td>\n",
       "      <td>0</td>\n",
       "    </tr>\n",
       "    <tr>\n",
       "      <th>1</th>\n",
       "      <td>1</td>\n",
       "      <td>3</td>\n",
       "      <td>-0.294767</td>\n",
       "      <td>2188998</td>\n",
       "      <td>-0.281359</td>\n",
       "      <td>-0.285812</td>\n",
       "      <td>1733924</td>\n",
       "      <td>-0.323814</td>\n",
       "      <td>-0.333411</td>\n",
       "      <td>0</td>\n",
       "    </tr>\n",
       "    <tr>\n",
       "      <th>2</th>\n",
       "      <td>1</td>\n",
       "      <td>4</td>\n",
       "      <td>-0.297555</td>\n",
       "      <td>1002156</td>\n",
       "      <td>-0.288654</td>\n",
       "      <td>-0.292442</td>\n",
       "      <td>439685</td>\n",
       "      <td>-0.323814</td>\n",
       "      <td>-0.333411</td>\n",
       "      <td>1</td>\n",
       "    </tr>\n",
       "    <tr>\n",
       "      <th>3</th>\n",
       "      <td>1</td>\n",
       "      <td>1</td>\n",
       "      <td>-0.297555</td>\n",
       "      <td>5828262</td>\n",
       "      <td>-0.288654</td>\n",
       "      <td>-0.292442</td>\n",
       "      <td>391696</td>\n",
       "      <td>-0.317582</td>\n",
       "      <td>-0.333411</td>\n",
       "      <td>1</td>\n",
       "    </tr>\n",
       "    <tr>\n",
       "      <th>4</th>\n",
       "      <td>1</td>\n",
       "      <td>3</td>\n",
       "      <td>-0.278532</td>\n",
       "      <td>3445981</td>\n",
       "      <td>-0.274329</td>\n",
       "      <td>-0.282221</td>\n",
       "      <td>828919</td>\n",
       "      <td>-0.323814</td>\n",
       "      <td>-0.333411</td>\n",
       "      <td>0</td>\n",
       "    </tr>\n",
       "  </tbody>\n",
       "</table>\n",
       "</div>"
      ],
      "text/plain": [
       "   step  type    amount  nameOrig  oldbalanceOrg  newbalanceOrig  nameDest  \\\n",
       "0     1     3 -0.281560    757869      -0.229810       -0.237622   1662094   \n",
       "1     1     3 -0.294767   2188998      -0.281359       -0.285812   1733924   \n",
       "2     1     4 -0.297555   1002156      -0.288654       -0.292442    439685   \n",
       "3     1     1 -0.297555   5828262      -0.288654       -0.292442    391696   \n",
       "4     1     3 -0.278532   3445981      -0.274329       -0.282221    828919   \n",
       "\n",
       "   oldbalanceDest  newbalanceDest  isFraud  \n",
       "0       -0.323814       -0.333411        0  \n",
       "1       -0.323814       -0.333411        0  \n",
       "2       -0.323814       -0.333411        1  \n",
       "3       -0.317582       -0.333411        1  \n",
       "4       -0.323814       -0.333411        0  "
      ]
     },
     "execution_count": 25,
     "metadata": {},
     "output_type": "execute_result"
    }
   ],
   "source": [
    "data.head()"
   ]
  },
  {
   "cell_type": "code",
   "execution_count": null,
   "id": "7bae576b-672b-41cb-9a2b-a0eba0788f0b",
   "metadata": {},
   "outputs": [],
   "source": [
    "# Encode categorical features\n",
    "le_type = LabelEncoder()\n",
    "data['type'] = le_type.fit_transform(data['type'])\n",
    "le_nameOrig = LabelEncoder()\n",
    "data['nameOrig'] = le_nameOrig.fit_transform(data['nameOrig'])\n",
    "le_nameDest = LabelEncoder()\n",
    "data['nameDest'] = le_nameDest.fit_transform(data['nameDest'])"
   ]
  },
  {
   "cell_type": "code",
   "execution_count": null,
   "id": "15242ebb-8e15-45f1-bc2f-caf2a1fde724",
   "metadata": {},
   "outputs": [],
   "source": [
    "# Handle missing values (if any)\n",
    "data.fillna(0, inplace=True)\n",
    "data.drop(columns=\"isFlaggedFraud\",inplace=True)\n",
    "# Normalize numerical features\n",
    "scaler = StandardScaler()\n",
    "data[['amount', 'oldbalanceOrg', 'newbalanceOrig', 'oldbalanceDest', 'newbalanceDest']] = scaler.fit_transform(\n",
    "    data[['amount', 'oldbalanceOrg', 'newbalanceOrig', 'oldbalanceDest', 'newbalanceDest']]\n",
    ")"
   ]
  },
  {
   "cell_type": "code",
   "execution_count": null,
   "id": "f7efa1ab-aad8-4bff-974b-84bf8a5ef95a",
   "metadata": {},
   "outputs": [],
   "source": [
    "# Define features and target\n",
    "X = data.drop(columns=['isFraud'])\n",
    "y = data['isFraud']\n",
    "\n",
    "# Initialize StratifiedKFold and SMOTE\n",
    "skf = StratifiedKFold(n_splits=3, shuffle=True, random_state=42)\n",
    "smote = SMOTE(random_state=42)"
   ]
  },
  {
   "cell_type": "code",
   "execution_count": null,
   "id": "f6285053-896e-4834-9519-a561a37b148d",
   "metadata": {},
   "outputs": [],
   "source": [
    "# Initialize lists to store results\n",
    "accuracy_scores = []\n",
    "f1_scores = []\n",
    "\n",
    "for train_index, val_index in skf.split(X, y):\n",
    "    X_train, X_val = X.iloc[train_index], X.iloc[val_index]\n",
    "    y_train, y_val = y.iloc[train_index], y.iloc[val_index]\n",
    "\n",
    "    # Apply SMOTE to the training data\n",
    "    X_train_res, y_train_res = smote.fit_resample(X_train, y_train)\n",
    "    \n",
    "    # Build the model\n",
    "    model = Sequential()\n",
    "    model.add(Dense(64, input_dim=X_train_res.shape[1], activation='relu'))\n",
    "    model.add(Dense(32, activation='relu'))\n",
    "    model.add(Dense(1, activation='sigmoid'))\n",
    "\n",
    "    model.compile(loss='binary_crossentropy', optimizer='adam', metrics=['accuracy'])\n",
    "\n",
    "    # Train the model\n",
    "    model.fit(X_train_res, y_train_res, epochs=2, batch_size=32, verbose=0)\n",
    "    \n",
    "    # Evaluate the model on the validation set\n",
    "    y_val_pred = (model.predict(X_val) > 0.5).astype(\"int32\")\n",
    "    accuracy = accuracy_score(y_val, y_val_pred)\n",
    "    f1 = f1_score(y_val, y_val_pred)\n",
    "    \n",
    "    accuracy_scores.append(accuracy)\n",
    "    f1_scores.append(f1)"
   ]
  },
  {
   "cell_type": "code",
   "execution_count": null,
   "id": "05147d38-1ca3-4a31-b28d-efa7980a6c6e",
   "metadata": {},
   "outputs": [],
   "source": [
    "# Calculate average scores\n",
    "average_accuracy = np.mean(accuracy_scores)\n",
    "average_f1_score = np.mean(f1_scores)\n",
    "\n",
    "print(f'Average Accuracy: {average_accuracy}')\n",
    "print(f'Average F1 Score: {average_f1_score}')"
   ]
  },
  {
   "cell_type": "code",
   "execution_count": null,
   "id": "0abaf7f5-8eb5-445b-8ea0-ee7bd312166e",
   "metadata": {},
   "outputs": [],
   "source": [
    "# Save the final model trained on the entire dataset\n",
    "smote = SMOTE(random_state=42)\n",
    "X_res, y_res = smote.fit_resample(X, y)\n",
    "\n",
    "model = Sequential()\n",
    "model.add(Dense(64, input_dim=X_res.shape[1], activation='relu'))\n",
    "model.add(Dense(32, activation='relu'))\n",
    "model.add(Dense(1, activation='sigmoid'))\n",
    "\n",
    "model.compile(loss='binary_crossentropy', optimizer='adam', metrics=['accuracy'])\n",
    "\n",
    "model.fit(X_res, y_res, epochs=2, batch_size=32)\n",
    "\n",
    "model.save('ann_fraud_detection_model.h5', include_optimizer=False)"
   ]
  },
  {
   "cell_type": "code",
   "execution_count": 24,
   "id": "43c59c74-c25f-4fe8-9719-2d2d76b3ae9a",
   "metadata": {},
   "outputs": [
    {
     "name": "stdout",
     "output_type": "stream",
     "text": [
      "66278/66278 [==============================] - 129s 2ms/step\n",
      "66278/66278 [==============================] - 87s 1ms/step\n",
      "66278/66278 [==============================] - 88s 1ms/step\n",
      "Average Accuracy: 0.3337853482478774\n",
      "Average F1 Score: 0.0017188267783042326\n",
      "Epoch 1/2\n",
      "397151/397151 [==============================] - 746s 2ms/step - loss: 27.7409 - accuracy: 0.5071\n",
      "Epoch 2/2\n",
      "397151/397151 [==============================] - 714s 2ms/step - loss: 0.6915 - accuracy: 0.5002\n"
     ]
    },
    {
     "name": "stderr",
     "output_type": "stream",
     "text": [
      "C:\\Users\\Admin\\anaconda3\\Lib\\site-packages\\keras\\src\\engine\\training.py:3000: UserWarning: You are saving your model as an HDF5 file via `model.save()`. This file format is considered legacy. We recommend using instead the native Keras format, e.g. `model.save('my_model.keras')`.\n",
      "  saving_api.save_model(\n"
     ]
    }
   ],
   "source": [
    "# Save the scaler and label encoders\n",
    "joblib.dump(scaler, 'model/scaler.pkl')\n",
    "joblib.dump(le_type, 'model/label_encoder_type.pkl')\n",
    "joblib.dump(le_nameOrig, 'model/label_encoder_nameOrig.pkl')\n",
    "joblib.dump(le_nameDest, 'model/label_encoder_nameDest.pkl')"
   ]
  }
 ],
 "metadata": {
  "kaggle": {
   "accelerator": "none",
   "dataSources": [
    {
     "datasetId": 2580326,
     "sourceId": 4398600,
     "sourceType": "datasetVersion"
    }
   ],
   "dockerImageVersionId": 30746,
   "isGpuEnabled": false,
   "isInternetEnabled": true,
   "language": "python",
   "sourceType": "notebook"
  },
  "kernelspec": {
   "display_name": "Python 3 (ipykernel)",
   "language": "python",
   "name": "python3"
  },
  "language_info": {
   "codemirror_mode": {
    "name": "ipython",
    "version": 3
   },
   "file_extension": ".py",
   "mimetype": "text/x-python",
   "name": "python",
   "nbconvert_exporter": "python",
   "pygments_lexer": "ipython3",
   "version": "3.11.9"
  },
  "papermill": {
   "default_parameters": {},
   "duration": 490.663398,
   "end_time": "2024-07-15T03:25:28.445814",
   "environment_variables": {},
   "exception": null,
   "input_path": "__notebook__.ipynb",
   "output_path": "__notebook__.ipynb",
   "parameters": {},
   "start_time": "2024-07-15T03:17:17.782416",
   "version": "2.5.0"
  }
 },
 "nbformat": 4,
 "nbformat_minor": 5
}
